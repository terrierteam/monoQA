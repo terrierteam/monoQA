{
 "cells": [
  {
   "cell_type": "code",
   "execution_count": 1,
   "id": "5c660443",
   "metadata": {},
   "outputs": [],
   "source": [
    "import nltk\n",
    "import pandas as pd\n",
    "from transformers import AutoTokenizer\n",
    "from datasets.dataset_dict import DatasetDict\n",
    "from datasets import Dataset\n",
    "from transformers import AutoModelForSeq2SeqLM, DataCollatorForSeq2Seq, Seq2SeqTrainingArguments, Seq2SeqTrainer\n",
    "import nltk\n",
    "import numpy as np\n",
    "from sklearn.metrics import accuracy_score, f1_score\n",
    "from datasets import load_metric"
   ]
  },
  {
   "cell_type": "code",
   "execution_count": 2,
   "id": "77ea8884",
   "metadata": {},
   "outputs": [],
   "source": [
    "pd.set_option('display.max_column',None)\n",
    "pd.set_option('display.max_rows',None)\n",
    "pd.set_option('display.max_seq_items',None)\n",
    "pd.set_option('display.max_colwidth', 500)\n",
    "pd.set_option('expand_frame_repr', True)"
   ]
  },
  {
   "cell_type": "code",
   "execution_count": 3,
   "id": "1d833719",
   "metadata": {},
   "outputs": [],
   "source": [
    "model_checkpoint = 'castorini/monot5-base-msmarco'"
   ]
  },
  {
   "cell_type": "code",
   "execution_count": 4,
   "id": "145fc533",
   "metadata": {},
   "outputs": [],
   "source": [
    "train = pd.read_csv('data/train.csv')\n",
    "dev = pd.read_csv('data/dev.csv')\n",
    "test = pd.read_csv('data/test.csv')"
   ]
  },
  {
   "cell_type": "code",
   "execution_count": 5,
   "id": "2e450170",
   "metadata": {},
   "outputs": [
    {
     "data": {
      "text/html": [
       "<div>\n",
       "<style scoped>\n",
       "    .dataframe tbody tr th:only-of-type {\n",
       "        vertical-align: middle;\n",
       "    }\n",
       "\n",
       "    .dataframe tbody tr th {\n",
       "        vertical-align: top;\n",
       "    }\n",
       "\n",
       "    .dataframe thead th {\n",
       "        text-align: right;\n",
       "    }\n",
       "</style>\n",
       "<table border=\"1\" class=\"dataframe\">\n",
       "  <thead>\n",
       "    <tr style=\"text-align: right;\">\n",
       "      <th></th>\n",
       "      <th>qid</th>\n",
       "      <th>text</th>\n",
       "      <th>output</th>\n",
       "    </tr>\n",
       "  </thead>\n",
       "  <tbody>\n",
       "    <tr>\n",
       "      <th>19045</th>\n",
       "      <td>C_50898b4862fb42f5b989ea579db6fb46_0_q#5</td>\n",
       "      <td>Question Answering: What were the results from the incident when a female fan claimed that Oliver Sykes of Bring Me the Horizon had urinated on her? &lt;extra_id_0&gt; With a plan to re-record some of the older, classic Visage tracks as well as produce some new material, the project never seemed to fully get off the ground despite some television appearances. The first Visage Mk II song was called \"Diary of A Madman\", which was made available for download in 2007 in return for a donation to the Ch...</td>\n",
       "      <td>false unanswerable</td>\n",
       "    </tr>\n",
       "    <tr>\n",
       "      <th>19454</th>\n",
       "      <td>C_52412285718442718f3b3dfb204d9377_0_q#5</td>\n",
       "      <td>Question Answering: when was the first football bowl game? &lt;extra_id_0&gt; During Bobby Dodd's tenure, Georgia Tech played against several integrated football teams while the South was resisting integration. Georgia Tech played against Notre Dame in 1953 with Wayne Edmonds starting at offensive tackle and defensive end for the Irish. Edmonds was the first black player to win a monogram at Notre Dame. Georgia Tech lost to Notre Dame 27-14. Georgia Tech also participated in the first integrated b...</td>\n",
       "      <td>true CANNOTANSWER</td>\n",
       "    </tr>\n",
       "    <tr>\n",
       "      <th>24232</th>\n",
       "      <td>C_6408f479d3b64aff99516b76dc39a478_1_q#2</td>\n",
       "      <td>Question Answering: Did any of Mick Taylor's bands record any singles or albums? &lt;extra_id_0&gt; Taylor was born to a working-class family in Welwyn Garden City, but was raised in Hatfield, Hertfordshire, England, where his father worked as a fitter (machinist) for the De Havilland aircraft company. He began playing guitar at age nine, learning to play from his mother's younger brother. As a teenager, he formed bands with schoolmates and started performing concerts under names such as The Junio...</td>\n",
       "      <td>true They also appeared on television and put out a single.</td>\n",
       "    </tr>\n",
       "  </tbody>\n",
       "</table>\n",
       "</div>"
      ],
      "text/plain": [
       "                                            qid  \\\n",
       "19045  C_50898b4862fb42f5b989ea579db6fb46_0_q#5   \n",
       "19454  C_52412285718442718f3b3dfb204d9377_0_q#5   \n",
       "24232  C_6408f479d3b64aff99516b76dc39a478_1_q#2   \n",
       "\n",
       "                                                                                                                                                                                                                                                                                                                                                                                                                                                                                                                      text  \\\n",
       "19045  Question Answering: What were the results from the incident when a female fan claimed that Oliver Sykes of Bring Me the Horizon had urinated on her? <extra_id_0> With a plan to re-record some of the older, classic Visage tracks as well as produce some new material, the project never seemed to fully get off the ground despite some television appearances. The first Visage Mk II song was called \"Diary of A Madman\", which was made available for download in 2007 in return for a donation to the Ch...   \n",
       "19454  Question Answering: when was the first football bowl game? <extra_id_0> During Bobby Dodd's tenure, Georgia Tech played against several integrated football teams while the South was resisting integration. Georgia Tech played against Notre Dame in 1953 with Wayne Edmonds starting at offensive tackle and defensive end for the Irish. Edmonds was the first black player to win a monogram at Notre Dame. Georgia Tech lost to Notre Dame 27-14. Georgia Tech also participated in the first integrated b...   \n",
       "24232  Question Answering: Did any of Mick Taylor's bands record any singles or albums? <extra_id_0> Taylor was born to a working-class family in Welwyn Garden City, but was raised in Hatfield, Hertfordshire, England, where his father worked as a fitter (machinist) for the De Havilland aircraft company. He began playing guitar at age nine, learning to play from his mother's younger brother. As a teenager, he formed bands with schoolmates and started performing concerts under names such as The Junio...   \n",
       "\n",
       "                                                            output  \n",
       "19045                                           false unanswerable  \n",
       "19454                                            true CANNOTANSWER  \n",
       "24232  true They also appeared on television and put out a single.  "
      ]
     },
     "execution_count": 5,
     "metadata": {},
     "output_type": "execute_result"
    }
   ],
   "source": [
    "train.sample(3)"
   ]
  },
  {
   "cell_type": "code",
   "execution_count": 6,
   "id": "a5abd5b5",
   "metadata": {
    "scrolled": false
   },
   "outputs": [],
   "source": [
    "tokenizer = AutoTokenizer.from_pretrained(model_checkpoint)\n",
    "model = AutoModelForSeq2SeqLM.from_pretrained(model_checkpoint)"
   ]
  },
  {
   "cell_type": "code",
   "execution_count": 7,
   "id": "b40ba14d",
   "metadata": {},
   "outputs": [],
   "source": [
    "raw_datasets = DatasetDict()\n",
    "raw_datasets['train'] = Dataset.from_pandas(train)\n",
    "raw_datasets['dev'] = Dataset.from_pandas(dev)\n",
    "raw_datasets['test'] = Dataset.from_pandas(test)"
   ]
  },
  {
   "cell_type": "code",
   "execution_count": 8,
   "id": "5de05945",
   "metadata": {},
   "outputs": [],
   "source": [
    "max_input_length = 512\n",
    "max_target_length = 256\n",
    "\n",
    "def preprocess_function(examples):\n",
    "    inputs = [doc for doc in examples[\"text\"]]\n",
    "    model_inputs = tokenizer(inputs, padding=True, max_length=max_input_length, truncation=True)\n",
    "\n",
    "    # Setup the tokenizer for targets\n",
    "    with tokenizer.as_target_tokenizer():\n",
    "        labels = tokenizer(examples[\"output\"], padding=True, max_length=max_target_length, truncation=True)\n",
    "\n",
    "    model_inputs[\"labels\"] = labels[\"input_ids\"]\n",
    "    return model_inputs"
   ]
  },
  {
   "cell_type": "code",
   "execution_count": 9,
   "id": "58b46cc2",
   "metadata": {},
   "outputs": [
    {
     "data": {
      "application/vnd.jupyter.widget-view+json": {
       "model_id": "9785718bdb464134ace0fb05056a69da",
       "version_major": 2,
       "version_minor": 0
      },
      "text/plain": [
       "  0%|          | 0/64 [00:00<?, ?ba/s]"
      ]
     },
     "metadata": {},
     "output_type": "display_data"
    },
    {
     "data": {
      "application/vnd.jupyter.widget-view+json": {
       "model_id": "58b5a8b77fca481897c942ceca462cb5",
       "version_major": 2,
       "version_minor": 0
      },
      "text/plain": [
       "  0%|          | 0/3 [00:00<?, ?ba/s]"
      ]
     },
     "metadata": {},
     "output_type": "display_data"
    },
    {
     "data": {
      "application/vnd.jupyter.widget-view+json": {
       "model_id": "acce7331652e45ec9fa3dd2a891a677c",
       "version_major": 2,
       "version_minor": 0
      },
      "text/plain": [
       "  0%|          | 0/5 [00:00<?, ?ba/s]"
      ]
     },
     "metadata": {},
     "output_type": "display_data"
    }
   ],
   "source": [
    "tokenized_datasets = raw_datasets.map(preprocess_function, batched=True)"
   ]
  },
  {
   "cell_type": "code",
   "execution_count": 10,
   "id": "a9a61d91",
   "metadata": {},
   "outputs": [],
   "source": [
    "batch_size = 16\n",
    "model_name = model_checkpoint.split(\"/\")[-1]\n",
    "output_path = f\"{model_name}-finetuned-monoQA\"\n",
    "# output_path = f\"{model_name}-finetuned-monoQA-rep-HDN-CONVDR-Question-Answering-100sample\"\n",
    "# output_path = f\"{model_name}-finetuned-monoQA-rep-HDN-CONVDR-Question-Passage-100sample\"\n",
    "args = Seq2SeqTrainingArguments(\n",
    "    output_path,\n",
    "    evaluation_strategy = \"epoch\",\n",
    "    learning_rate=2e-5,\n",
    "    per_device_train_batch_size=batch_size,\n",
    "    per_device_eval_batch_size=batch_size,\n",
    "    weight_decay=0.01,\n",
    "    save_total_limit=10,\n",
    "    num_train_epochs=10,\n",
    "    predict_with_generate=True,\n",
    "    fp16=False,\n",
    "    push_to_hub=False,\n",
    "    save_strategy =\"epoch\",\n",
    "    logging_dir= output_path + '/logs',\n",
    "    logging_strategy=\"epoch\",\n",
    "#     logging_steps=1000,\n",
    "    load_best_model_at_end=True\n",
    "#     save_steps=1000,\n",
    ")"
   ]
  },
  {
   "cell_type": "code",
   "execution_count": 11,
   "id": "66aa1f7f",
   "metadata": {},
   "outputs": [],
   "source": [
    "data_collator = DataCollatorForSeq2Seq(tokenizer, model=model)\n",
    "\n",
    "metric = load_metric(\"rouge\")"
   ]
  },
  {
   "cell_type": "code",
   "execution_count": 12,
   "id": "049bbecc",
   "metadata": {},
   "outputs": [],
   "source": [
    "def split_tasks(text):\n",
    "    if text.startswith('true ') or text.startswith('false '):\n",
    "        return text.split()[0], ' '.join(text.split()[1:])\n",
    "    else:\n",
    "        return 'false', text"
   ]
  },
  {
   "cell_type": "code",
   "execution_count": 13,
   "id": "ddb6f698",
   "metadata": {},
   "outputs": [],
   "source": [
    "def compute_metrics_multitask(eval_pred):\n",
    "    predictions, labels = eval_pred\n",
    "    decoded_preds = tokenizer.batch_decode(predictions, skip_special_tokens=True)\n",
    "    # Replace -100 in the labels as we can't decode them.\n",
    "    labels = np.where(labels != -100, labels, tokenizer.pad_token_id)\n",
    "    decoded_labels = tokenizer.batch_decode(labels, skip_special_tokens=True)\n",
    "    \n",
    "    decoded_preds = [split_tasks(pred) for pred in decoded_preds]\n",
    "    decoded_labels = [split_tasks(label) for label in decoded_labels]\n",
    "    \n",
    "    rel_preds = [m[0] for m in decoded_preds]\n",
    "    rel_labels = [m[0] for m in decoded_labels]\n",
    "    \n",
    "    ans_preds = [m[1] for m in decoded_preds]\n",
    "    ans_labels = [m[1] for m in decoded_labels]\n",
    "    \n",
    "    \n",
    "    prediction_lens = [np.count_nonzero(pred != tokenizer.pad_token_id) for pred in predictions[7:]]\n",
    "    \n",
    "    result = metric.compute(predictions=ans_preds, references=ans_labels, use_stemmer=True)\n",
    "    result = {key: value.mid.fmeasure * 100 for key, value in result.items()}\n",
    "    \n",
    "    rel_acc = accuracy_score(rel_labels, rel_preds)\n",
    "    \n",
    "    result['Rel Acc'] = rel_acc * 100\n",
    "    \n",
    "    return {k: round(v, 2) for k, v in result.items()}"
   ]
  },
  {
   "cell_type": "code",
   "execution_count": 14,
   "id": "6a87a41d",
   "metadata": {},
   "outputs": [],
   "source": [
    "trainer = Seq2SeqTrainer(\n",
    "    model,\n",
    "    args,\n",
    "    train_dataset=tokenized_datasets[\"train\"],\n",
    "    eval_dataset=tokenized_datasets[\"dev\"],\n",
    "    data_collator=data_collator,\n",
    "    tokenizer=tokenizer,\n",
    "    compute_metrics=compute_metrics_multitask\n",
    ")"
   ]
  },
  {
   "cell_type": "code",
   "execution_count": null,
   "id": "c3818ce4",
   "metadata": {},
   "outputs": [
    {
     "name": "stderr",
     "output_type": "stream",
     "text": [
      "The following columns in the training set don't have a corresponding argument in `T5ForConditionalGeneration.forward` and have been ignored: output, qid, text. If output, qid, text are not expected by `T5ForConditionalGeneration.forward`,  you can safely ignore this message.\n",
      "/tmp/.local/lib/python3.7/site-packages/transformers/optimization.py:310: FutureWarning: This implementation of AdamW is deprecated and will be removed in a future version. Use the PyTorch implementation torch.optim.AdamW instead, or set `no_deprecation_warning=True` to disable this warning\n",
      "  FutureWarning,\n",
      "***** Running training *****\n",
      "  Num examples = 63052\n",
      "  Num Epochs = 10\n",
      "  Instantaneous batch size per device = 16\n",
      "  Total train batch size (w. parallel, distributed & accumulation) = 16\n",
      "  Gradient Accumulation steps = 1\n",
      "  Total optimization steps = 39410\n"
     ]
    },
    {
     "data": {
      "text/html": [
       "\n",
       "    <div>\n",
       "      \n",
       "      <progress value='59' max='39410' style='width:300px; height:20px; vertical-align: middle;'></progress>\n",
       "      [   59/39410 00:21 < 4:02:17, 2.71 it/s, Epoch 0.01/10]\n",
       "    </div>\n",
       "    <table border=\"1\" class=\"dataframe\">\n",
       "  <thead>\n",
       " <tr style=\"text-align: left;\">\n",
       "      <th>Epoch</th>\n",
       "      <th>Training Loss</th>\n",
       "      <th>Validation Loss</th>\n",
       "    </tr>\n",
       "  </thead>\n",
       "  <tbody>\n",
       "  </tbody>\n",
       "</table><p>"
      ],
      "text/plain": [
       "<IPython.core.display.HTML object>"
      ]
     },
     "metadata": {},
     "output_type": "display_data"
    }
   ],
   "source": [
    "trainer.train()"
   ]
  },
  {
   "cell_type": "code",
   "execution_count": null,
   "id": "9abec075",
   "metadata": {},
   "outputs": [],
   "source": []
  }
 ],
 "metadata": {
  "kernelspec": {
   "display_name": "Python 3 (ipykernel)",
   "language": "python",
   "name": "python3"
  },
  "language_info": {
   "codemirror_mode": {
    "name": "ipython",
    "version": 3
   },
   "file_extension": ".py",
   "mimetype": "text/x-python",
   "name": "python",
   "nbconvert_exporter": "python",
   "pygments_lexer": "ipython3",
   "version": "3.7.11"
  }
 },
 "nbformat": 4,
 "nbformat_minor": 5
}
