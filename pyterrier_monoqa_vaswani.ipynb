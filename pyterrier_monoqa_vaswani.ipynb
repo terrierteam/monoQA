{
 "cells": [
  {
   "cell_type": "code",
   "execution_count": 1,
   "id": "267806a3",
   "metadata": {},
   "outputs": [
    {
     "name": "stdout",
     "output_type": "stream",
     "text": [
      "Collecting python-terrier\n",
      "  Cloning https://github.com/terrier-org/pyterrier.git to /tmp/pip-install-shus55f2/python-terrier\n",
      "  Running command git clone -q https://github.com/terrier-org/pyterrier.git /tmp/pip-install-shus55f2/python-terrier\n",
      "Requirement already satisfied, skipping upgrade: chest in /home/saraw/.local/lib/python3.8/site-packages (from python-terrier) (0.2.3)\n",
      "Requirement already satisfied, skipping upgrade: deprecation in /home/saraw/.local/lib/python3.8/site-packages (from python-terrier) (2.1.0)\n",
      "Requirement already satisfied, skipping upgrade: dill in /home/saraw/.local/lib/python3.8/site-packages (from python-terrier) (0.3.6)\n",
      "Requirement already satisfied, skipping upgrade: ir_datasets>=0.3.2 in /home/saraw/.local/lib/python3.8/site-packages (from python-terrier) (0.5.4)\n",
      "Requirement already satisfied, skipping upgrade: ir_measures>=0.3.1 in /home/saraw/.local/lib/python3.8/site-packages (from python-terrier) (0.3.1)\n",
      "Requirement already satisfied, skipping upgrade: jinja2 in /home/saraw/.local/lib/python3.8/site-packages (from python-terrier) (3.1.2)\n",
      "Requirement already satisfied, skipping upgrade: joblib in /home/saraw/.local/lib/python3.8/site-packages (from python-terrier) (1.2.0)\n",
      "Requirement already satisfied, skipping upgrade: matchpy in /home/saraw/.local/lib/python3.8/site-packages (from python-terrier) (0.5.5)\n",
      "Requirement already satisfied, skipping upgrade: more_itertools in /usr/lib/python3/dist-packages (from python-terrier) (4.2.0)\n",
      "Requirement already satisfied, skipping upgrade: nptyping==1.4.4 in /home/saraw/.local/lib/python3.8/site-packages (from python-terrier) (1.4.4)\n",
      "Requirement already satisfied, skipping upgrade: numpy in /home/saraw/.local/lib/python3.8/site-packages (from python-terrier) (1.22.3)\n",
      "Requirement already satisfied, skipping upgrade: pandas in /home/saraw/.local/lib/python3.8/site-packages (from python-terrier) (1.4.2)\n",
      "Requirement already satisfied, skipping upgrade: pyjnius>=1.4.2 in /home/saraw/.local/lib/python3.8/site-packages (from python-terrier) (1.4.2)\n",
      "Requirement already satisfied, skipping upgrade: pytrec_eval_terrier>=0.5.3 in /home/saraw/.local/lib/python3.8/site-packages (from python-terrier) (0.5.4)\n",
      "Requirement already satisfied, skipping upgrade: requests in /home/saraw/.local/lib/python3.8/site-packages (from python-terrier) (2.28.1)\n",
      "Requirement already satisfied, skipping upgrade: scipy in /home/saraw/.local/lib/python3.8/site-packages (from python-terrier) (1.9.3)\n",
      "Requirement already satisfied, skipping upgrade: sklearn in /home/saraw/.local/lib/python3.8/site-packages (from python-terrier) (0.0)\n",
      "Requirement already satisfied, skipping upgrade: statsmodels in /home/saraw/.local/lib/python3.8/site-packages (from python-terrier) (0.13.2)\n",
      "Requirement already satisfied, skipping upgrade: tqdm in /home/saraw/.local/lib/python3.8/site-packages (from python-terrier) (4.64.1)\n",
      "Requirement already satisfied, skipping upgrade: wget in /home/saraw/.local/lib/python3.8/site-packages (from python-terrier) (3.2)\n",
      "Requirement already satisfied, skipping upgrade: heapdict in /home/saraw/.local/lib/python3.8/site-packages (from chest->python-terrier) (1.0.1)\n",
      "Requirement already satisfied, skipping upgrade: packaging in /home/saraw/.local/lib/python3.8/site-packages (from deprecation->python-terrier) (21.3)\n",
      "Requirement already satisfied, skipping upgrade: zlib-state>=0.1.3 in /home/saraw/.local/lib/python3.8/site-packages (from ir_datasets>=0.3.2->python-terrier) (0.1.5)\n",
      "Requirement already satisfied, skipping upgrade: ijson>=3.1.3 in /home/saraw/.local/lib/python3.8/site-packages (from ir_datasets>=0.3.2->python-terrier) (3.1.4)\n",
      "Requirement already satisfied, skipping upgrade: warc3-wet>=0.2.3 in /home/saraw/.local/lib/python3.8/site-packages (from ir_datasets>=0.3.2->python-terrier) (0.2.3)\n",
      "Requirement already satisfied, skipping upgrade: lxml>=4.5.2 in /home/saraw/.local/lib/python3.8/site-packages (from ir_datasets>=0.3.2->python-terrier) (4.9.1)\n",
      "Requirement already satisfied, skipping upgrade: trec-car-tools>=2.5.4 in /home/saraw/.local/lib/python3.8/site-packages (from ir_datasets>=0.3.2->python-terrier) (2.6)\n",
      "Requirement already satisfied, skipping upgrade: warc3-wet-clueweb09>=0.2.5 in /home/saraw/.local/lib/python3.8/site-packages (from ir_datasets>=0.3.2->python-terrier) (0.2.5)\n",
      "Requirement already satisfied, skipping upgrade: lz4>=3.1.1 in /home/saraw/.local/lib/python3.8/site-packages (from ir_datasets>=0.3.2->python-terrier) (4.0.2)\n",
      "Requirement already satisfied, skipping upgrade: pyyaml>=5.3.1 in /usr/lib/python3/dist-packages (from ir_datasets>=0.3.2->python-terrier) (5.3.1)\n",
      "Requirement already satisfied, skipping upgrade: beautifulsoup4>=4.4.1 in /home/saraw/.local/lib/python3.8/site-packages (from ir_datasets>=0.3.2->python-terrier) (4.11.1)\n",
      "Requirement already satisfied, skipping upgrade: pyautocorpus>=0.1.1 in /home/saraw/.local/lib/python3.8/site-packages (from ir_datasets>=0.3.2->python-terrier) (0.1.8)\n",
      "Requirement already satisfied, skipping upgrade: unlzw3>=0.2.1 in /home/saraw/.local/lib/python3.8/site-packages (from ir_datasets>=0.3.2->python-terrier) (0.2.1)\n",
      "Requirement already satisfied, skipping upgrade: cwl-eval>=1.0.10 in /home/saraw/.local/lib/python3.8/site-packages (from ir_measures>=0.3.1->python-terrier) (1.0.10)\n",
      "Requirement already satisfied, skipping upgrade: MarkupSafe>=2.0 in /home/saraw/.local/lib/python3.8/site-packages (from jinja2->python-terrier) (2.1.1)\n",
      "Requirement already satisfied, skipping upgrade: multiset<3.0,>=2.0 in /home/saraw/.local/lib/python3.8/site-packages (from matchpy->python-terrier) (2.1.1)\n",
      "Requirement already satisfied, skipping upgrade: typish>=1.7.0 in /home/saraw/.local/lib/python3.8/site-packages (from nptyping==1.4.4->python-terrier) (1.9.3)\n",
      "Requirement already satisfied, skipping upgrade: pytz>=2020.1 in /home/saraw/.local/lib/python3.8/site-packages (from pandas->python-terrier) (2022.1)\n",
      "Requirement already satisfied, skipping upgrade: python-dateutil>=2.8.1 in /home/saraw/.local/lib/python3.8/site-packages (from pandas->python-terrier) (2.8.2)\n",
      "Requirement already satisfied, skipping upgrade: six>=1.7.0 in /usr/lib/python3/dist-packages (from pyjnius>=1.4.2->python-terrier) (1.14.0)\n",
      "Requirement already satisfied, skipping upgrade: idna<4,>=2.5 in /usr/lib/python3/dist-packages (from requests->python-terrier) (2.8)\n",
      "Requirement already satisfied, skipping upgrade: charset-normalizer<3,>=2 in /home/saraw/.local/lib/python3.8/site-packages (from requests->python-terrier) (2.1.1)\n",
      "Requirement already satisfied, skipping upgrade: urllib3<1.27,>=1.21.1 in /usr/lib/python3/dist-packages (from requests->python-terrier) (1.25.8)\n",
      "Requirement already satisfied, skipping upgrade: certifi>=2017.4.17 in /usr/lib/python3/dist-packages (from requests->python-terrier) (2019.11.28)\n",
      "Requirement already satisfied, skipping upgrade: scikit-learn in /home/saraw/.local/lib/python3.8/site-packages (from sklearn->python-terrier) (1.1.2)\n",
      "Requirement already satisfied, skipping upgrade: patsy>=0.5.2 in /home/saraw/.local/lib/python3.8/site-packages (from statsmodels->python-terrier) (0.5.3)\n",
      "Requirement already satisfied, skipping upgrade: pyparsing!=3.0.5,>=2.0.2 in /home/saraw/.local/lib/python3.8/site-packages (from packaging->deprecation->python-terrier) (3.0.9)\n",
      "Requirement already satisfied, skipping upgrade: cbor>=1.0.0 in /home/saraw/.local/lib/python3.8/site-packages (from trec-car-tools>=2.5.4->ir_datasets>=0.3.2->python-terrier) (1.0.0)\n",
      "Requirement already satisfied, skipping upgrade: soupsieve>1.2 in /home/saraw/.local/lib/python3.8/site-packages (from beautifulsoup4>=4.4.1->ir_datasets>=0.3.2->python-terrier) (2.3.2.post1)\n",
      "Requirement already satisfied, skipping upgrade: threadpoolctl>=2.0.0 in /home/saraw/.local/lib/python3.8/site-packages (from scikit-learn->sklearn->python-terrier) (3.1.0)\n",
      "Building wheels for collected packages: python-terrier\n",
      "  Building wheel for python-terrier (setup.py) ... \u001b[?25ldone\n",
      "\u001b[?25h  Created wheel for python-terrier: filename=python_terrier-0.8.1-py3-none-any.whl size=104733 sha256=5a5567f04616d5b9a1eae73cf0b546de416a8a8b5b87c68a19b9092e7a8f5525\n",
      "  Stored in directory: /tmp/pip-ephem-wheel-cache-drm6fn9u/wheels/92/00/3b/91460ee205c531cfa11bb4da2b9804ff1a4d57d77d175e7496\n",
      "Successfully built python-terrier\n"
     ]
    },
    {
     "name": "stdout",
     "output_type": "stream",
     "text": [
      "Installing collected packages: python-terrier\n",
      "  Attempting uninstall: python-terrier\n",
      "    Found existing installation: python-terrier 0.8.1\n",
      "    Uninstalling python-terrier-0.8.1:\n",
      "      Successfully uninstalled python-terrier-0.8.1\n",
      "Successfully installed python-terrier-0.8.1\n"
     ]
    }
   ],
   "source": [
    "!pip install --upgrade git+https://github.com/terrier-org/pyterrier.git#egg=python-terrier"
   ]
  },
  {
   "cell_type": "code",
   "execution_count": 2,
   "id": "0befe786",
   "metadata": {},
   "outputs": [
    {
     "name": "stderr",
     "output_type": "stream",
     "text": [
      "PyTerrier 0.8.1 has loaded Terrier 5.6 (built by craigmacdonald on 2021-09-17 13:27)\n",
      "\n",
      "No etc/terrier.properties, using terrier.default.properties for bootstrap configuration.\n"
     ]
    }
   ],
   "source": [
    "import pyterrier as pt\n",
    "pt.init()"
   ]
  },
  {
   "cell_type": "code",
   "execution_count": null,
   "id": "addbb05d",
   "metadata": {},
   "outputs": [
    {
     "name": "stderr",
     "output_type": "stream",
     "text": [
      "The cache for model files in Transformers v4.22.0 has been updated. Migrating your old cache. This is a one-time only operation. You can interrupt this and resume the migration later on by calling `transformers.utils.move_cache()`.\n"
     ]
    },
    {
     "name": "stdout",
     "output_type": "stream",
     "text": [
      "Moving 0 files to the new cache system\n"
     ]
    },
    {
     "data": {
      "application/vnd.jupyter.widget-view+json": {
       "model_id": "67f6161a2042483bb5eedbe36ddc63ba",
       "version_major": 2,
       "version_minor": 0
      },
      "text/plain": [
       "0it [00:00, ?it/s]"
      ]
     },
     "metadata": {},
     "output_type": "display_data"
    }
   ],
   "source": [
    "import pyterrier as pt\n",
    "from pyterrier_monoQA import MonoQA\n",
    "monoqa = MonoQA()"
   ]
  },
  {
   "cell_type": "code",
   "execution_count": null,
   "id": "c7ed8223",
   "metadata": {},
   "outputs": [],
   "source": [
    "dataset = pt.get_dataset(\"irds:vaswani\")\n",
    "index_loc = \"./index_path\"\n",
    "indexer = pt.IterDictIndexer(index_loc)\n",
    "indexref = indexer.index(dataset.get_corpus_iter())"
   ]
  },
  {
   "cell_type": "code",
   "execution_count": null,
   "id": "ce19ad58",
   "metadata": {},
   "outputs": [],
   "source": [
    "bm25 = pt.BatchRetrieve(indexref, wmodel=\"BM25\") % 100\n",
    "mono_pipeline = bm25 >> pt.text.get_text(dataset, \"text\") >> monoqa"
   ]
  },
  {
   "cell_type": "code",
   "execution_count": null,
   "id": "6b0d4ff3",
   "metadata": {},
   "outputs": [],
   "source": [
    "mono_pipeline.transform(dataset.get_topics().head())"
   ]
  }
 ],
 "metadata": {
  "kernelspec": {
   "display_name": "Python 3 (ipykernel)",
   "language": "python",
   "name": "python3"
  },
  "language_info": {
   "codemirror_mode": {
    "name": "ipython",
    "version": 3
   },
   "file_extension": ".py",
   "mimetype": "text/x-python",
   "name": "python",
   "nbconvert_exporter": "python",
   "pygments_lexer": "ipython3",
   "version": "3.8.10"
  }
 },
 "nbformat": 4,
 "nbformat_minor": 5
}
