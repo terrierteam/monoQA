{
 "cells": [
  {
   "cell_type": "code",
   "execution_count": 2,
   "id": "e9d4645a",
   "metadata": {},
   "outputs": [
    {
     "name": "stdout",
     "output_type": "stream",
     "text": [
      "Collecting python-terrier\n",
      "  Cloning https://github.com/terrier-org/pyterrier.git to /tmp/pip-install-20wphemv/python-terrier\n",
      "  Running command git clone -q https://github.com/terrier-org/pyterrier.git /tmp/pip-install-20wphemv/python-terrier\n",
      "Collecting chest\n",
      "  Downloading chest-0.2.3.tar.gz (9.6 kB)\n",
      "Collecting deprecation\n",
      "  Downloading deprecation-2.1.0-py2.py3-none-any.whl (11 kB)\n",
      "Collecting dill\n",
      "  Downloading dill-0.3.6-py3-none-any.whl (110 kB)\n",
      "\u001b[K     |████████████████████████████████| 110 kB 2.8 MB/s eta 0:00:01\n",
      "\u001b[?25hCollecting ir_datasets>=0.3.2\n",
      "  Downloading ir_datasets-0.5.4-py3-none-any.whl (311 kB)\n",
      "\u001b[K     |████████████████████████████████| 311 kB 4.7 MB/s eta 0:00:01\n",
      "\u001b[?25hCollecting ir_measures>=0.3.1\n",
      "  Downloading ir_measures-0.3.1.tar.gz (46 kB)\n",
      "\u001b[K     |████████████████████████████████| 46 kB 1.4 MB/s eta 0:00:011\n",
      "\u001b[?25hRequirement already satisfied, skipping upgrade: jinja2 in /home/saraw/.local/lib/python3.8/site-packages (from python-terrier) (3.1.2)\n",
      "Collecting joblib\n",
      "  Downloading joblib-1.2.0-py3-none-any.whl (297 kB)\n",
      "\u001b[K     |████████████████████████████████| 297 kB 2.4 MB/s eta 0:00:01\n",
      "\u001b[?25hCollecting matchpy\n",
      "  Downloading matchpy-0.5.5-py3-none-any.whl (69 kB)\n",
      "\u001b[K     |████████████████████████████████| 69 kB 2.4 MB/s eta 0:00:01\n",
      "\u001b[?25hRequirement already satisfied, skipping upgrade: more_itertools in /usr/lib/python3/dist-packages (from python-terrier) (4.2.0)\n",
      "Collecting nptyping==1.4.4\n",
      "  Downloading nptyping-1.4.4-py3-none-any.whl (31 kB)\n",
      "Requirement already satisfied, skipping upgrade: numpy in /home/saraw/.local/lib/python3.8/site-packages (from python-terrier) (1.22.3)\n",
      "Requirement already satisfied, skipping upgrade: pandas in /home/saraw/.local/lib/python3.8/site-packages (from python-terrier) (1.4.2)\n",
      "Collecting pyjnius>=1.4.2\n",
      "  Downloading pyjnius-1.4.2-cp38-cp38-manylinux_2_17_x86_64.manylinux2014_x86_64.whl (1.5 MB)\n",
      "\u001b[K     |████████████████████████████████| 1.5 MB 4.0 MB/s eta 0:00:01\n",
      "\u001b[?25hCollecting pytrec_eval_terrier>=0.5.3\n",
      "  Downloading pytrec_eval_terrier-0.5.4-cp38-cp38-manylinux_2_17_x86_64.manylinux2014_x86_64.whl (286 kB)\n",
      "\u001b[K     |████████████████████████████████| 286 kB 4.5 MB/s eta 0:00:01\n",
      "\u001b[?25hRequirement already satisfied, skipping upgrade: requests in /home/saraw/.local/lib/python3.8/site-packages (from python-terrier) (2.28.1)\n",
      "Collecting scipy\n",
      "  Downloading scipy-1.9.3-cp38-cp38-manylinux_2_17_x86_64.manylinux2014_x86_64.whl (33.8 MB)\n",
      "\u001b[K     |████████████████████████████████| 33.8 MB 5.1 MB/s eta 0:00:01\n",
      "\u001b[?25hCollecting sklearn\n",
      "  Downloading sklearn-0.0.tar.gz (1.1 kB)\n",
      "Collecting statsmodels\n",
      "  Downloading statsmodels-0.13.2-cp38-cp38-manylinux_2_17_x86_64.manylinux2014_x86_64.whl (9.9 MB)\n",
      "\u001b[K     |████████████████████████████████| 9.9 MB 4.5 MB/s eta 0:00:01\n",
      "\u001b[?25hRequirement already satisfied, skipping upgrade: tqdm in /home/saraw/.local/lib/python3.8/site-packages (from python-terrier) (4.64.1)\n",
      "Collecting wget\n",
      "  Downloading wget-3.2.zip (10 kB)\n",
      "Collecting heapdict\n",
      "  Downloading HeapDict-1.0.1-py3-none-any.whl (3.9 kB)\n",
      "Requirement already satisfied, skipping upgrade: packaging in /home/saraw/.local/lib/python3.8/site-packages (from deprecation->python-terrier) (21.3)\n",
      "Collecting warc3-wet>=0.2.3\n",
      "  Downloading warc3_wet-0.2.3-py3-none-any.whl (13 kB)\n",
      "Collecting lz4>=3.1.1\n",
      "  Downloading lz4-4.0.2-cp38-cp38-manylinux_2_17_x86_64.manylinux2014_x86_64.whl (1.2 MB)\n",
      "\u001b[K     |████████████████████████████████| 1.2 MB 3.7 MB/s eta 0:00:01\n",
      "\u001b[?25hCollecting zlib-state>=0.1.3\n",
      "  Downloading zlib_state-0.1.5-cp38-cp38-manylinux2010_x86_64.whl (72 kB)\n",
      "\u001b[K     |████████████████████████████████| 72 kB 453 kB/s eta 0:00:011\n",
      "\u001b[?25hCollecting pyautocorpus>=0.1.1\n",
      "  Downloading pyautocorpus-0.1.8-cp38-cp38-manylinux_2_12_x86_64.manylinux2010_x86_64.whl (293 kB)\n",
      "\u001b[K     |████████████████████████████████| 293 kB 5.2 MB/s eta 0:00:01\n",
      "\u001b[?25hCollecting ijson>=3.1.3\n",
      "  Downloading ijson-3.1.4-cp38-cp38-manylinux2010_x86_64.whl (133 kB)\n",
      "\u001b[K     |████████████████████████████████| 133 kB 2.3 MB/s eta 0:00:01\n",
      "\u001b[?25hCollecting unlzw3>=0.2.1\n",
      "  Downloading unlzw3-0.2.1.tar.gz (5.8 kB)\n",
      "  Installing build dependencies ... \u001b[?25ldone\n",
      "\u001b[?25h  Getting requirements to build wheel ... \u001b[?25ldone\n",
      "\u001b[?25h    Preparing wheel metadata ... \u001b[?25ldone\n",
      "\u001b[?25hCollecting trec-car-tools>=2.5.4\n",
      "  Downloading trec_car_tools-2.6-py3-none-any.whl (8.4 kB)\n",
      "Requirement already satisfied, skipping upgrade: beautifulsoup4>=4.4.1 in /home/saraw/.local/lib/python3.8/site-packages (from ir_datasets>=0.3.2->python-terrier) (4.11.1)\n",
      "Requirement already satisfied, skipping upgrade: pyyaml>=5.3.1 in /usr/lib/python3/dist-packages (from ir_datasets>=0.3.2->python-terrier) (5.3.1)\n",
      "Requirement already satisfied, skipping upgrade: lxml>=4.5.2 in /home/saraw/.local/lib/python3.8/site-packages (from ir_datasets>=0.3.2->python-terrier) (4.9.1)\n",
      "Collecting warc3-wet-clueweb09>=0.2.5\n",
      "  Downloading warc3-wet-clueweb09-0.2.5.tar.gz (17 kB)\n",
      "Collecting cwl-eval>=1.0.10\n",
      "  Downloading cwl-eval-1.0.10.tar.gz (31 kB)\n",
      "Requirement already satisfied, skipping upgrade: MarkupSafe>=2.0 in /home/saraw/.local/lib/python3.8/site-packages (from jinja2->python-terrier) (2.1.1)\n",
      "Collecting multiset<3.0,>=2.0\n",
      "  Downloading multiset-2.1.1-py2.py3-none-any.whl (8.8 kB)\n",
      "Collecting typish>=1.7.0\n",
      "  Downloading typish-1.9.3-py3-none-any.whl (45 kB)\n",
      "\u001b[K     |████████████████████████████████| 45 kB 2.2 MB/s eta 0:00:01\n",
      "\u001b[?25hRequirement already satisfied, skipping upgrade: pytz>=2020.1 in /home/saraw/.local/lib/python3.8/site-packages (from pandas->python-terrier) (2022.1)\n",
      "Requirement already satisfied, skipping upgrade: python-dateutil>=2.8.1 in /home/saraw/.local/lib/python3.8/site-packages (from pandas->python-terrier) (2.8.2)\n",
      "Requirement already satisfied, skipping upgrade: six>=1.7.0 in /usr/lib/python3/dist-packages (from pyjnius>=1.4.2->python-terrier) (1.14.0)\n",
      "Requirement already satisfied, skipping upgrade: urllib3<1.27,>=1.21.1 in /usr/lib/python3/dist-packages (from requests->python-terrier) (1.25.8)\n",
      "Requirement already satisfied, skipping upgrade: idna<4,>=2.5 in /usr/lib/python3/dist-packages (from requests->python-terrier) (2.8)\n",
      "Requirement already satisfied, skipping upgrade: certifi>=2017.4.17 in /usr/lib/python3/dist-packages (from requests->python-terrier) (2019.11.28)\n",
      "Requirement already satisfied, skipping upgrade: charset-normalizer<3,>=2 in /home/saraw/.local/lib/python3.8/site-packages (from requests->python-terrier) (2.1.1)\n",
      "Collecting scikit-learn\n",
      "  Downloading scikit_learn-1.1.2-cp38-cp38-manylinux_2_17_x86_64.manylinux2014_x86_64.whl (31.2 MB)\n",
      "\u001b[K     |████████████████████████████████| 31.2 MB 3.7 MB/s eta 0:00:01\n",
      "\u001b[?25hCollecting patsy>=0.5.2\n",
      "  Downloading patsy-0.5.3-py2.py3-none-any.whl (233 kB)\n",
      "\u001b[K     |████████████████████████████████| 233 kB 3.3 MB/s eta 0:00:01\n",
      "\u001b[?25hRequirement already satisfied, skipping upgrade: pyparsing!=3.0.5,>=2.0.2 in /home/saraw/.local/lib/python3.8/site-packages (from packaging->deprecation->python-terrier) (3.0.9)\n",
      "Collecting cbor>=1.0.0\n",
      "  Downloading cbor-1.0.0.tar.gz (20 kB)\n",
      "Requirement already satisfied, skipping upgrade: soupsieve>1.2 in /home/saraw/.local/lib/python3.8/site-packages (from beautifulsoup4>=4.4.1->ir_datasets>=0.3.2->python-terrier) (2.3.2.post1)\n",
      "Collecting threadpoolctl>=2.0.0\n",
      "  Downloading threadpoolctl-3.1.0-py3-none-any.whl (14 kB)\n",
      "Building wheels for collected packages: python-terrier, chest, ir-measures, sklearn, wget, unlzw3, warc3-wet-clueweb09, cwl-eval, cbor\n",
      "  Building wheel for python-terrier (setup.py) ... \u001b[?25ldone\n",
      "\u001b[?25h  Created wheel for python-terrier: filename=python_terrier-0.8.1-py3-none-any.whl size=104733 sha256=af764b23f7acf3bd9fcab7522d4400dddb52faf03431a27e8cbb4575b361a597\n",
      "  Stored in directory: /tmp/pip-ephem-wheel-cache-i5aaw_50/wheels/92/00/3b/91460ee205c531cfa11bb4da2b9804ff1a4d57d77d175e7496\n",
      "  Building wheel for chest (setup.py) ... \u001b[?25ldone\n",
      "\u001b[?25h  Created wheel for chest: filename=chest-0.2.3-py3-none-any.whl size=7620 sha256=a8fa4d8b3ad7c98246a222bc1ffc1f39b54990034f0a8369189f2ccc83ff98f6\n",
      "  Stored in directory: /home/saraw/.cache/pip/wheels/a3/10/0c/3c77925ea9d4deccf5e0a06a27a2c4cea4464bb57d68015eba\n",
      "  Building wheel for ir-measures (setup.py) ... \u001b[?25ldone\n",
      "\u001b[?25h  Created wheel for ir-measures: filename=ir_measures-0.3.1-py3-none-any.whl size=60174 sha256=cadd49f126b3d17fc69f9f1182ce14e85c789b9b6306c5e3372706816388cf29\n",
      "  Stored in directory: /home/saraw/.cache/pip/wheels/e0/62/25/77a51a011fc5c0a771372e08914c2d7451b3e76114a1067358\n"
     ]
    },
    {
     "name": "stdout",
     "output_type": "stream",
     "text": [
      "  Building wheel for sklearn (setup.py) ... \u001b[?25ldone\n",
      "\u001b[?25h  Created wheel for sklearn: filename=sklearn-0.0-py2.py3-none-any.whl size=1315 sha256=6d2abb0eac29da56516cf1594c1668334161934988d0db0cbf29ad642f5dfb8f\n",
      "  Stored in directory: /home/saraw/.cache/pip/wheels/22/0b/40/fd3f795caaa1fb4c6cb738bc1f56100be1e57da95849bfc897\n",
      "  Building wheel for wget (setup.py) ... \u001b[?25ldone\n",
      "\u001b[?25h  Created wheel for wget: filename=wget-3.2-py3-none-any.whl size=9681 sha256=76b8d9ce503fe689588190d33d56e680b1a9ced6f3be68230e09eb2285d8f16e\n",
      "  Stored in directory: /home/saraw/.cache/pip/wheels/bd/a8/c3/3cf2c14a1837a4e04bd98631724e81f33f462d86a1d895fae0\n",
      "  Building wheel for unlzw3 (PEP 517) ... \u001b[?25ldone\n",
      "\u001b[?25h  Created wheel for unlzw3: filename=unlzw3-0.2.1-py3-none-any.whl size=6066 sha256=b95d757fb23548bb986b21124f5fdc9b5aaebe5f070c6f615b9b984a0761b21f\n",
      "  Stored in directory: /home/saraw/.cache/pip/wheels/16/12/7c/662a9b523c77aec10cc0ec1e7c97628aabd3f8ae202184e015\n",
      "  Building wheel for warc3-wet-clueweb09 (setup.py) ... \u001b[?25ldone\n",
      "\u001b[?25h  Created wheel for warc3-wet-clueweb09: filename=warc3_wet_clueweb09-0.2.5-py3-none-any.whl size=18908 sha256=86ff8627ef06f610654e3cb1106dffb41227d1e9a36cfcc255ba896be85f23c5\n",
      "  Stored in directory: /home/saraw/.cache/pip/wheels/2f/81/96/219c1a4ebbcb766834ccef089c56481b761c26d8ed235e21dc\n",
      "  Building wheel for cwl-eval (setup.py) ... \u001b[?25ldone\n",
      "\u001b[?25h  Created wheel for cwl-eval: filename=cwl_eval-1.0.10-py3-none-any.whl size=37796 sha256=78292064f09c5a7d5dcf3b80c853866f2a32574601d0c1c787a700a04af71ab0\n",
      "  Stored in directory: /home/saraw/.cache/pip/wheels/63/ed/65/f2b0fd8cf5db963e30b803a7b6755bf8f47915c5ae568d6c57\n",
      "  Building wheel for cbor (setup.py) ... \u001b[?25ldone\n",
      "\u001b[?25h  Created wheel for cbor: filename=cbor-1.0.0-cp38-cp38-linux_x86_64.whl size=57884 sha256=48400d79994492b773a6efa6bad9a0b89816b4ff8158e4131c6ab92a8b7dcbbe\n",
      "  Stored in directory: /home/saraw/.cache/pip/wheels/31/3a/8a/9d1a5e6f83f620826578089812b8ac236b86eaf4fbc3b36384\n",
      "Successfully built python-terrier chest ir-measures sklearn wget unlzw3 warc3-wet-clueweb09 cwl-eval cbor\n",
      "Installing collected packages: heapdict, chest, deprecation, dill, warc3-wet, lz4, zlib-state, pyautocorpus, ijson, unlzw3, cbor, trec-car-tools, warc3-wet-clueweb09, ir-datasets, cwl-eval, pytrec-eval-terrier, ir-measures, joblib, multiset, matchpy, typish, nptyping, pyjnius, scipy, threadpoolctl, scikit-learn, sklearn, patsy, statsmodels, wget, python-terrier\n",
      "Successfully installed cbor-1.0.0 chest-0.2.3 cwl-eval-1.0.10 deprecation-2.1.0 dill-0.3.6 heapdict-1.0.1 ijson-3.1.4 ir-datasets-0.5.4 ir-measures-0.3.1 joblib-1.2.0 lz4-4.0.2 matchpy-0.5.5 multiset-2.1.1 nptyping-1.4.4 patsy-0.5.3 pyautocorpus-0.1.8 pyjnius-1.4.2 python-terrier-0.8.1 pytrec-eval-terrier-0.5.4 scikit-learn-1.1.2 scipy-1.9.3 sklearn-0.0 statsmodels-0.13.2 threadpoolctl-3.1.0 trec-car-tools-2.6 typish-1.9.3 unlzw3-0.2.1 warc3-wet-0.2.3 warc3-wet-clueweb09-0.2.5 wget-3.2 zlib-state-0.1.5\n"
     ]
    }
   ],
   "source": [
    "!pip install --upgrade git+https://github.com/terrier-org/pyterrier.git#egg=python-terrier"
   ]
  },
  {
   "cell_type": "code",
   "execution_count": 3,
   "id": "8dbd76a5",
   "metadata": {},
   "outputs": [
    {
     "name": "stdout",
     "output_type": "stream",
     "text": [
      "terrier-assemblies 5.6 jar-with-dependencies not found, downloading to /home/saraw/.pyterrier...\n",
      "100% [......................................................................] 103577345 / 103577345Done\n",
      "terrier-python-helper 0.0.6 jar not found, downloading to /home/saraw/.pyterrier...\n",
      "100% [..............................................................................] 33517 / 33517Done\n"
     ]
    },
    {
     "name": "stderr",
     "output_type": "stream",
     "text": [
      "PyTerrier 0.8.1 has loaded Terrier 5.6 (built by craigmacdonald on 2021-09-17 13:27)\n",
      "\n",
      "No etc/terrier.properties, using terrier.default.properties for bootstrap configuration.\n"
     ]
    }
   ],
   "source": [
    "import pyterrier as pt\n",
    "pt.init()"
   ]
  },
  {
   "cell_type": "code",
   "execution_count": 4,
   "id": "a0586f61",
   "metadata": {},
   "outputs": [
    {
     "ename": "ModuleNotFoundError",
     "evalue": "No module named 'torch'",
     "output_type": "error",
     "traceback": [
      "\u001b[0;31m---------------------------------------------------------------------------\u001b[0m",
      "\u001b[0;31mModuleNotFoundError\u001b[0m                       Traceback (most recent call last)",
      "Cell \u001b[0;32mIn [4], line 2\u001b[0m\n\u001b[1;32m      1\u001b[0m \u001b[38;5;28;01mimport\u001b[39;00m \u001b[38;5;21;01mpyterrier\u001b[39;00m \u001b[38;5;28;01mas\u001b[39;00m \u001b[38;5;21;01mpt\u001b[39;00m\n\u001b[0;32m----> 2\u001b[0m \u001b[38;5;28;01mfrom\u001b[39;00m \u001b[38;5;21;01mpyterrier_monoQA\u001b[39;00m \u001b[38;5;28;01mimport\u001b[39;00m MonoQA\n\u001b[1;32m      3\u001b[0m monoqa \u001b[38;5;241m=\u001b[39m MonoQA()\n",
      "File \u001b[0;32m~/monoQA/terrierteam/monoQA/pyterrier_monoQA/__init__.py:9\u001b[0m\n\u001b[1;32m      7\u001b[0m \u001b[38;5;28;01mfrom\u001b[39;00m \u001b[38;5;21;01mcollections\u001b[39;00m \u001b[38;5;28;01mimport\u001b[39;00m defaultdict\n\u001b[1;32m      8\u001b[0m \u001b[38;5;28;01mfrom\u001b[39;00m \u001b[38;5;21;01mpyterrier\u001b[39;00m\u001b[38;5;21;01m.\u001b[39;00m\u001b[38;5;21;01mmodel\u001b[39;00m \u001b[38;5;28;01mimport\u001b[39;00m add_ranks\n\u001b[0;32m----> 9\u001b[0m \u001b[38;5;28;01mimport\u001b[39;00m \u001b[38;5;21;01mtorch\u001b[39;00m\n\u001b[1;32m     10\u001b[0m \u001b[38;5;28;01mfrom\u001b[39;00m \u001b[38;5;21;01mtorch\u001b[39;00m\u001b[38;5;21;01m.\u001b[39;00m\u001b[38;5;21;01mnn\u001b[39;00m \u001b[38;5;28;01mimport\u001b[39;00m functional \u001b[38;5;28;01mas\u001b[39;00m F\n\u001b[1;32m     11\u001b[0m \u001b[38;5;28;01mfrom\u001b[39;00m \u001b[38;5;21;01mtransformers\u001b[39;00m \u001b[38;5;28;01mimport\u001b[39;00m T5Config, T5Tokenizer, T5ForConditionalGeneration\n",
      "\u001b[0;31mModuleNotFoundError\u001b[0m: No module named 'torch'"
     ]
    }
   ],
   "source": [
    "import pyterrier as pt\n",
    "from pyterrier_monoQA import MonoQA\n",
    "monoqa = MonoQA()"
   ]
  },
  {
   "cell_type": "code",
   "execution_count": null,
   "id": "1291fee2",
   "metadata": {},
   "outputs": [],
   "source": []
  }
 ],
 "metadata": {
  "kernelspec": {
   "display_name": "Python 3 (ipykernel)",
   "language": "python",
   "name": "python3"
  },
  "language_info": {
   "codemirror_mode": {
    "name": "ipython",
    "version": 3
   },
   "file_extension": ".py",
   "mimetype": "text/x-python",
   "name": "python",
   "nbconvert_exporter": "python",
   "pygments_lexer": "ipython3",
   "version": "3.8.10"
  }
 },
 "nbformat": 4,
 "nbformat_minor": 5
}
