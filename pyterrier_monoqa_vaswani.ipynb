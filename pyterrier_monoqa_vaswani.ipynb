{
 "cells": [
  {
   "cell_type": "code",
   "execution_count": null,
   "id": "8836e314",
   "metadata": {},
   "outputs": [],
   "source": [
    "!pip install --upgrade git+https://github.com/terrier-org/pyterrier.git#egg=python-terrier\n",
    "!pip install --upgrade git+https://github.com/terrierteam/monoQA.git"
   ]
  },
  {
   "cell_type": "code",
   "execution_count": 1,
   "id": "e9ec5d32",
   "metadata": {},
   "outputs": [
    {
     "name": "stdout",
     "output_type": "stream",
     "text": [
      "PyTerrier 0.6.0 has loaded Terrier 5.6 (built by craigmacdonald on 2021-09-17 13:27)\n"
     ]
    },
    {
     "name": "stderr",
     "output_type": "stream",
     "text": [
      "No etc/terrier.properties, using terrier.default.properties for bootstrap configuration.\n"
     ]
    }
   ],
   "source": [
    "import os\n",
    "os.environ[\"JAVA_HOME\"] = \"/usr/lib/jvm/java-11-openjdk-amd64/\"\n",
    "import pyterrier as pt\n",
    "pt.init()"
   ]
  },
  {
   "cell_type": "code",
   "execution_count": 2,
   "id": "193cfcc0",
   "metadata": {},
   "outputs": [
    {
     "data": {
      "application/vnd.jupyter.widget-view+json": {
       "model_id": "67c6201a7feb4e94a531fcf6cb29935e",
       "version_major": 2,
       "version_minor": 0
      },
      "text/plain": [
       "Downloading:   0%|          | 0.00/773k [00:00<?, ?B/s]"
      ]
     },
     "metadata": {},
     "output_type": "display_data"
    },
    {
     "data": {
      "application/vnd.jupyter.widget-view+json": {
       "model_id": "6b0b747bc81b4277b586085185433178",
       "version_major": 2,
       "version_minor": 0
      },
      "text/plain": [
       "Downloading:   0%|          | 0.00/1.74k [00:00<?, ?B/s]"
      ]
     },
     "metadata": {},
     "output_type": "display_data"
    },
    {
     "data": {
      "application/vnd.jupyter.widget-view+json": {
       "model_id": "983b5658b6454331a7885c433f7b8e06",
       "version_major": 2,
       "version_minor": 0
      },
      "text/plain": [
       "Downloading:   0%|          | 0.00/1.92k [00:00<?, ?B/s]"
      ]
     },
     "metadata": {},
     "output_type": "display_data"
    },
    {
     "data": {
      "application/vnd.jupyter.widget-view+json": {
       "model_id": "09260656bbf54e5eab31cda7010f2e1e",
       "version_major": 2,
       "version_minor": 0
      },
      "text/plain": [
       "Downloading:   0%|          | 0.00/2.31M [00:00<?, ?B/s]"
      ]
     },
     "metadata": {},
     "output_type": "display_data"
    }
   ],
   "source": [
    "import pyterrier as pt\n",
    "from pyterrier_monoQA import MonoQA\n",
    "monoqa = MonoQA(top_k=10)"
   ]
  },
  {
   "cell_type": "code",
   "execution_count": 3,
   "id": "2a13037e",
   "metadata": {},
   "outputs": [
    {
     "name": "stderr",
     "output_type": "stream",
     "text": [
      "[INFO] [starting] http://ir.dcs.gla.ac.uk/resources/test_collections/npl/npl.tar.gz\n",
      "vaswani documents:   0%|          | 0/11429 [00:00<?, ?it/s]\n",
      "                                                            ar.gz: 0.0%| 0.00/2.13M [00:00<?, ?B/s]\u001b[A\n",
      "\u001b[A                                                                                                [INFO] [finished] http://ir.dcs.gla.ac.uk/resources/test_collections/npl/npl.tar.gz: [00:00] [2.13MB] [106MB/s]\n",
      "vaswani documents:   0%|          | 0/11429 [00:00<?, ?it/s]\n",
      "http://ir.dcs.gla.ac.uk/resources/test_collections/npl/npl.tar.gz: [00:00] [2.13MB] [17.0MB/s]\u001b[A\n",
      "vaswani documents: 100%|██████████| 11429/11429 [00:03<00:00, 3140.97it/s]                    \u001b[A\n"
     ]
    }
   ],
   "source": [
    "dataset = pt.get_dataset(\"irds:vaswani\")\n",
    "index_loc = \"./index_path\"\n",
    "indexer = pt.IterDictIndexer(index_loc, overwrite=True)\n",
    "indexref = indexer.index(dataset.get_corpus_iter())"
   ]
  },
  {
   "cell_type": "code",
   "execution_count": 4,
   "id": "e9b68003",
   "metadata": {},
   "outputs": [],
   "source": [
    "bm25 = pt.BatchRetrieve(indexref, wmodel=\"BM25\") % 100\n",
    "mono_pipeline = bm25 >> pt.text.get_text(dataset, \"text\") >> monoqa"
   ]
  },
  {
   "cell_type": "code",
   "execution_count": 5,
   "id": "34e6c1a4",
   "metadata": {},
   "outputs": [
    {
     "name": "stderr",
     "output_type": "stream",
     "text": [
      "[INFO] [starting] building docstore\n",
      "docs_iter: 100%|█████████████████████| 11429/11429 [00:00<00:00, 100376.07doc/s]\n",
      "[INFO] [finished] docs_iter: [00:00] [11429doc] [99893.52doc/s]\n",
      "[INFO] [finished] building docstore [118ms]\n",
      "monoQA: 100%|██████████| 2325/2325 [00:56<00:00, 41.26batches/s]\n",
      "  0%|          | 0/9300 [00:00<?, ?it/s]/opt/conda/lib/python3.7/site-packages/transformers/generation_utils.py:2158: UserWarning: __floordiv__ is deprecated, and its behavior will change in a future version of pytorch. It currently rounds toward 0 (like the 'trunc' function NOT 'floor'). This results in incorrect rounding for negative values. To keep the current behavior, use torch.div(a, b, rounding_mode='trunc'), or for actual floor division, use torch.div(a, b, rounding_mode='floor').\n",
      "  next_indices = next_tokens // vocab_size\n",
      "100%|██████████| 9300/9300 [04:28<00:00, 34.67it/s] \n"
     ]
    },
    {
     "data": {
      "text/html": [
       "<div>\n",
       "<style scoped>\n",
       "    .dataframe tbody tr th:only-of-type {\n",
       "        vertical-align: middle;\n",
       "    }\n",
       "\n",
       "    .dataframe tbody tr th {\n",
       "        vertical-align: top;\n",
       "    }\n",
       "\n",
       "    .dataframe thead th {\n",
       "        text-align: right;\n",
       "    }\n",
       "</style>\n",
       "<table border=\"1\" class=\"dataframe\">\n",
       "  <thead>\n",
       "    <tr style=\"text-align: right;\">\n",
       "      <th></th>\n",
       "      <th>name</th>\n",
       "      <th>map</th>\n",
       "      <th>recip_rank</th>\n",
       "      <th>P.10</th>\n",
       "      <th>ndcg_cut.10</th>\n",
       "    </tr>\n",
       "  </thead>\n",
       "  <tbody>\n",
       "    <tr>\n",
       "      <th>0</th>\n",
       "      <td>BM25</td>\n",
       "      <td>0.272523</td>\n",
       "      <td>0.725587</td>\n",
       "      <td>0.352688</td>\n",
       "      <td>0.446609</td>\n",
       "    </tr>\n",
       "    <tr>\n",
       "      <th>1</th>\n",
       "      <td>BM25 &gt;&gt; monoQA</td>\n",
       "      <td>0.216124</td>\n",
       "      <td>0.631191</td>\n",
       "      <td>0.301075</td>\n",
       "      <td>0.367005</td>\n",
       "    </tr>\n",
       "  </tbody>\n",
       "</table>\n",
       "</div>"
      ],
      "text/plain": [
       "             name       map  recip_rank      P.10  ndcg_cut.10\n",
       "0            BM25  0.272523    0.725587  0.352688     0.446609\n",
       "1  BM25 >> monoQA  0.216124    0.631191  0.301075     0.367005"
      ]
     },
     "execution_count": 5,
     "metadata": {},
     "output_type": "execute_result"
    }
   ],
   "source": [
    "pt.Experiment(\n",
    "  [\n",
    "   bm25,\n",
    "   mono_pipeline,\n",
    "  ],\n",
    "  dataset.get_topics(),\n",
    "  dataset.get_qrels(),\n",
    "  names=[\"BM25\", \"BM25 >> monoQA\"],\n",
    "  eval_metrics=[\"map\", \"recip_rank\", \"P.10\", \"ndcg_cut.10\"]\n",
    ")"
   ]
  },
  {
   "cell_type": "code",
   "execution_count": 6,
   "id": "de36f02d",
   "metadata": {
    "scrolled": true
   },
   "outputs": [
    {
     "name": "stderr",
     "output_type": "stream",
     "text": [
      "monoQA: 100%|██████████| 50/50 [00:01<00:00, 37.75batches/s]\n",
      "  0%|          | 0/200 [00:00<?, ?it/s]/opt/conda/lib/python3.7/site-packages/transformers/generation_utils.py:2158: UserWarning: __floordiv__ is deprecated, and its behavior will change in a future version of pytorch. It currently rounds toward 0 (like the 'trunc' function NOT 'floor'). This results in incorrect rounding for negative values. To keep the current behavior, use torch.div(a, b, rounding_mode='trunc'), or for actual floor division, use torch.div(a, b, rounding_mode='floor').\n",
      "  next_indices = next_tokens // vocab_size\n",
      "100%|██████████| 200/200 [00:03<00:00, 51.79it/s]\n"
     ]
    }
   ],
   "source": [
    "res = mono_pipeline.transform(dataset.get_topics().head(2))"
   ]
  },
  {
   "cell_type": "code",
   "execution_count": 8,
   "id": "b75aa83d",
   "metadata": {},
   "outputs": [
    {
     "data": {
      "text/html": [
       "<div>\n",
       "<style scoped>\n",
       "    .dataframe tbody tr th:only-of-type {\n",
       "        vertical-align: middle;\n",
       "    }\n",
       "\n",
       "    .dataframe tbody tr th {\n",
       "        vertical-align: top;\n",
       "    }\n",
       "\n",
       "    .dataframe thead th {\n",
       "        text-align: right;\n",
       "    }\n",
       "</style>\n",
       "<table border=\"1\" class=\"dataframe\">\n",
       "  <thead>\n",
       "    <tr style=\"text-align: right;\">\n",
       "      <th></th>\n",
       "      <th>qid</th>\n",
       "      <th>docid</th>\n",
       "      <th>docno</th>\n",
       "      <th>query</th>\n",
       "      <th>text</th>\n",
       "      <th>score</th>\n",
       "      <th>rank</th>\n",
       "      <th>answer</th>\n",
       "    </tr>\n",
       "  </thead>\n",
       "  <tbody>\n",
       "    <tr>\n",
       "      <th>2</th>\n",
       "      <td>1</td>\n",
       "      <td>5501</td>\n",
       "      <td>5502</td>\n",
       "      <td>measurement of dielectric constant of liquids ...</td>\n",
       "      <td>the dielectric properties of water in solution...</td>\n",
       "      <td>-0.195115</td>\n",
       "      <td>0</td>\n",
       "      <td>measurements have been made of the microwave d...</td>\n",
       "    </tr>\n",
       "    <tr>\n",
       "      <th>0</th>\n",
       "      <td>1</td>\n",
       "      <td>8171</td>\n",
       "      <td>8172</td>\n",
       "      <td>measurement of dielectric constant of liquids ...</td>\n",
       "      <td>microwave spectroscopy  includes chapters on s...</td>\n",
       "      <td>-0.299627</td>\n",
       "      <td>1</td>\n",
       "      <td>measurements on gases liquids and solids on nu...</td>\n",
       "    </tr>\n",
       "    <tr>\n",
       "      <th>17</th>\n",
       "      <td>1</td>\n",
       "      <td>8149</td>\n",
       "      <td>8150</td>\n",
       "      <td>measurement of dielectric constant of liquids ...</td>\n",
       "      <td>the dielectric constant of free and bound wate...</td>\n",
       "      <td>-0.527434</td>\n",
       "      <td>2</td>\n",
       "      <td>measurement of dielectric constant of free and...</td>\n",
       "    </tr>\n",
       "    <tr>\n",
       "      <th>27</th>\n",
       "      <td>1</td>\n",
       "      <td>4146</td>\n",
       "      <td>4147</td>\n",
       "      <td>measurement of dielectric constant of liquids ...</td>\n",
       "      <td>a survey of ground conductivity and dielectric...</td>\n",
       "      <td>-0.701239</td>\n",
       "      <td>3</td>\n",
       "      <td>unanswerable</td>\n",
       "    </tr>\n",
       "    <tr>\n",
       "      <th>3</th>\n",
       "      <td>1</td>\n",
       "      <td>1501</td>\n",
       "      <td>1502</td>\n",
       "      <td>measurement of dielectric constant of liquids ...</td>\n",
       "      <td>microwave measurements of dielectric absorptio...</td>\n",
       "      <td>-0.864417</td>\n",
       "      <td>4</td>\n",
       "      <td>unanswerable</td>\n",
       "    </tr>\n",
       "    <tr>\n",
       "      <th>1021</th>\n",
       "      <td>2</td>\n",
       "      <td>4329</td>\n",
       "      <td>4330</td>\n",
       "      <td>mathematical analysis and design details of wa...</td>\n",
       "      <td>a step by step method for designing waveguides...</td>\n",
       "      <td>-0.491646</td>\n",
       "      <td>0</td>\n",
       "      <td>step by step method for designing waveguides a...</td>\n",
       "    </tr>\n",
       "    <tr>\n",
       "      <th>1007</th>\n",
       "      <td>2</td>\n",
       "      <td>2217</td>\n",
       "      <td>2218</td>\n",
       "      <td>mathematical analysis and design details of wa...</td>\n",
       "      <td>microwave ferrite modulators for high signal f...</td>\n",
       "      <td>-0.512787</td>\n",
       "      <td>1</td>\n",
       "      <td>two experimental modulators for x band frequen...</td>\n",
       "    </tr>\n",
       "    <tr>\n",
       "      <th>1015</th>\n",
       "      <td>2</td>\n",
       "      <td>8872</td>\n",
       "      <td>8873</td>\n",
       "      <td>mathematical analysis and design details of wa...</td>\n",
       "      <td>on the cherenkov effect for a charge moving ab...</td>\n",
       "      <td>-0.711715</td>\n",
       "      <td>2</td>\n",
       "      <td>unanswerable</td>\n",
       "    </tr>\n",
       "    <tr>\n",
       "      <th>1023</th>\n",
       "      <td>2</td>\n",
       "      <td>7997</td>\n",
       "      <td>7998</td>\n",
       "      <td>mathematical analysis and design details of wa...</td>\n",
       "      <td>a mathematical technique for the analysis of l...</td>\n",
       "      <td>-0.740805</td>\n",
       "      <td>3</td>\n",
       "      <td>unanswerable</td>\n",
       "    </tr>\n",
       "    <tr>\n",
       "      <th>1087</th>\n",
       "      <td>2</td>\n",
       "      <td>11074</td>\n",
       "      <td>11075</td>\n",
       "      <td>mathematical analysis and design details of wa...</td>\n",
       "      <td>a microwave plasma discharge  striae produced ...</td>\n",
       "      <td>-0.769862</td>\n",
       "      <td>4</td>\n",
       "      <td>unanswerable</td>\n",
       "    </tr>\n",
       "  </tbody>\n",
       "</table>\n",
       "</div>"
      ],
      "text/plain": [
       "     qid  docid  docno                                              query  \\\n",
       "2      1   5501   5502  measurement of dielectric constant of liquids ...   \n",
       "0      1   8171   8172  measurement of dielectric constant of liquids ...   \n",
       "17     1   8149   8150  measurement of dielectric constant of liquids ...   \n",
       "27     1   4146   4147  measurement of dielectric constant of liquids ...   \n",
       "3      1   1501   1502  measurement of dielectric constant of liquids ...   \n",
       "1021   2   4329   4330  mathematical analysis and design details of wa...   \n",
       "1007   2   2217   2218  mathematical analysis and design details of wa...   \n",
       "1015   2   8872   8873  mathematical analysis and design details of wa...   \n",
       "1023   2   7997   7998  mathematical analysis and design details of wa...   \n",
       "1087   2  11074  11075  mathematical analysis and design details of wa...   \n",
       "\n",
       "                                                   text     score  rank  \\\n",
       "2     the dielectric properties of water in solution... -0.195115     0   \n",
       "0     microwave spectroscopy  includes chapters on s... -0.299627     1   \n",
       "17    the dielectric constant of free and bound wate... -0.527434     2   \n",
       "27    a survey of ground conductivity and dielectric... -0.701239     3   \n",
       "3     microwave measurements of dielectric absorptio... -0.864417     4   \n",
       "1021  a step by step method for designing waveguides... -0.491646     0   \n",
       "1007  microwave ferrite modulators for high signal f... -0.512787     1   \n",
       "1015  on the cherenkov effect for a charge moving ab... -0.711715     2   \n",
       "1023  a mathematical technique for the analysis of l... -0.740805     3   \n",
       "1087  a microwave plasma discharge  striae produced ... -0.769862     4   \n",
       "\n",
       "                                                 answer  \n",
       "2     measurements have been made of the microwave d...  \n",
       "0     measurements on gases liquids and solids on nu...  \n",
       "17    measurement of dielectric constant of free and...  \n",
       "27                                         unanswerable  \n",
       "3                                          unanswerable  \n",
       "1021  step by step method for designing waveguides a...  \n",
       "1007  two experimental modulators for x band frequen...  \n",
       "1015                                       unanswerable  \n",
       "1023                                       unanswerable  \n",
       "1087                                       unanswerable  "
      ]
     },
     "execution_count": 8,
     "metadata": {},
     "output_type": "execute_result"
    }
   ],
   "source": [
    "res[res['rank']<5]"
   ]
  },
  {
   "cell_type": "code",
   "execution_count": null,
   "id": "7c6e1ee8",
   "metadata": {},
   "outputs": [],
   "source": []
  }
 ],
 "metadata": {
  "kernelspec": {
   "display_name": "Python 3 (ipykernel)",
   "language": "python",
   "name": "python3"
  },
  "language_info": {
   "codemirror_mode": {
    "name": "ipython",
    "version": 3
   },
   "file_extension": ".py",
   "mimetype": "text/x-python",
   "name": "python",
   "nbconvert_exporter": "python",
   "pygments_lexer": "ipython3",
   "version": "3.7.11"
  }
 },
 "nbformat": 4,
 "nbformat_minor": 5
}
