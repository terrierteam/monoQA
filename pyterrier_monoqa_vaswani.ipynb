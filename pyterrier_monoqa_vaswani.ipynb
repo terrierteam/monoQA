{
 "cells": [
  {
   "cell_type": "code",
   "execution_count": null,
   "id": "ef954b90",
   "metadata": {},
   "outputs": [],
   "source": [
    "# !pip install --upgrade git+https://github.com/terrier-org/pyterrier.git#egg=python-terrier"
   ]
  },
  {
   "cell_type": "code",
   "execution_count": 1,
   "id": "7964544c",
   "metadata": {},
   "outputs": [
    {
     "name": "stderr",
     "output_type": "stream",
     "text": [
      "PyTerrier 0.8.1 has loaded Terrier 5.6 (built by craigmacdonald on 2021-09-17 13:27)\n",
      "\n",
      "No etc/terrier.properties, using terrier.default.properties for bootstrap configuration.\n"
     ]
    }
   ],
   "source": [
    "import pyterrier as pt\n",
    "pt.init()"
   ]
  },
  {
   "cell_type": "code",
   "execution_count": 2,
   "id": "ff17bd4e",
   "metadata": {},
   "outputs": [],
   "source": [
    "import pyterrier as pt\n",
    "from pyterrier_monoQA import MonoQA\n",
    "monoqa = MonoQA(top_k=10)"
   ]
  },
  {
   "cell_type": "code",
   "execution_count": 3,
   "id": "b188835d",
   "metadata": {},
   "outputs": [
    {
     "name": "stderr",
     "output_type": "stream",
     "text": [
      "vaswani documents: 100%|█████████████████████████████████████████████████████████████████████| 11429/11429 [00:02<00:00, 3951.33it/s]\n"
     ]
    }
   ],
   "source": [
    "dataset = pt.get_dataset(\"irds:vaswani\")\n",
    "index_loc = \"./index_path\"\n",
    "indexer = pt.IterDictIndexer(index_loc, overwrite=True)\n",
    "indexref = indexer.index(dataset.get_corpus_iter())"
   ]
  },
  {
   "cell_type": "code",
   "execution_count": 4,
   "id": "abbfce74",
   "metadata": {},
   "outputs": [],
   "source": [
    "bm25 = pt.BatchRetrieve(indexref, wmodel=\"BM25\") % 100\n",
    "mono_pipeline = bm25 >> pt.text.get_text(dataset, \"text\") >> monoqa"
   ]
  },
  {
   "cell_type": "code",
   "execution_count": 5,
   "id": "6555876f",
   "metadata": {},
   "outputs": [
    {
     "name": "stderr",
     "output_type": "stream",
     "text": [
      "monoQA: 100%|███████████████████████████████████████████████████████████████████████████████████| 50/50 [00:31<00:00,  1.58batches/s]\n",
      "100%|██████████████████████████████████████████████████████████████████████████████████████████████| 200/200 [00:17<00:00, 11.43it/s]\n"
     ]
    }
   ],
   "source": [
    "res = mono_pipeline.transform(dataset.get_topics().head(2))"
   ]
  },
  {
   "cell_type": "code",
   "execution_count": 7,
   "id": "391b97ff",
   "metadata": {},
   "outputs": [
    {
     "data": {
      "text/html": [
       "<div>\n",
       "<style scoped>\n",
       "    .dataframe tbody tr th:only-of-type {\n",
       "        vertical-align: middle;\n",
       "    }\n",
       "\n",
       "    .dataframe tbody tr th {\n",
       "        vertical-align: top;\n",
       "    }\n",
       "\n",
       "    .dataframe thead th {\n",
       "        text-align: right;\n",
       "    }\n",
       "</style>\n",
       "<table border=\"1\" class=\"dataframe\">\n",
       "  <thead>\n",
       "    <tr style=\"text-align: right;\">\n",
       "      <th></th>\n",
       "      <th>qid</th>\n",
       "      <th>docid</th>\n",
       "      <th>docno</th>\n",
       "      <th>query</th>\n",
       "      <th>text</th>\n",
       "      <th>score</th>\n",
       "      <th>rank</th>\n",
       "      <th>answer</th>\n",
       "    </tr>\n",
       "  </thead>\n",
       "  <tbody>\n",
       "    <tr>\n",
       "      <th>2</th>\n",
       "      <td>1</td>\n",
       "      <td>5501</td>\n",
       "      <td>5502</td>\n",
       "      <td>measurement of dielectric constant of liquids ...</td>\n",
       "      <td>the dielectric properties of water in solution...</td>\n",
       "      <td>-0.194378</td>\n",
       "      <td>0</td>\n",
       "      <td>measurements have been made of the microwave d...</td>\n",
       "    </tr>\n",
       "    <tr>\n",
       "      <th>0</th>\n",
       "      <td>1</td>\n",
       "      <td>8171</td>\n",
       "      <td>8172</td>\n",
       "      <td>measurement of dielectric constant of liquids ...</td>\n",
       "      <td>microwave spectroscopy  includes chapters on s...</td>\n",
       "      <td>-0.298686</td>\n",
       "      <td>1</td>\n",
       "      <td>microwave spectroscopy includes chapters on sp...</td>\n",
       "    </tr>\n",
       "    <tr>\n",
       "      <th>17</th>\n",
       "      <td>1</td>\n",
       "      <td>8149</td>\n",
       "      <td>8150</td>\n",
       "      <td>measurement of dielectric constant of liquids ...</td>\n",
       "      <td>the dielectric constant of free and bound wate...</td>\n",
       "      <td>-0.526480</td>\n",
       "      <td>2</td>\n",
       "      <td>measurement of dielectric constant of free and...</td>\n",
       "    </tr>\n",
       "    <tr>\n",
       "      <th>27</th>\n",
       "      <td>1</td>\n",
       "      <td>4146</td>\n",
       "      <td>4147</td>\n",
       "      <td>measurement of dielectric constant of liquids ...</td>\n",
       "      <td>a survey of ground conductivity and dielectric...</td>\n",
       "      <td>-0.699999</td>\n",
       "      <td>3</td>\n",
       "      <td>unanswerable</td>\n",
       "    </tr>\n",
       "    <tr>\n",
       "      <th>3</th>\n",
       "      <td>1</td>\n",
       "      <td>1501</td>\n",
       "      <td>1502</td>\n",
       "      <td>measurement of dielectric constant of liquids ...</td>\n",
       "      <td>microwave measurements of dielectric absorptio...</td>\n",
       "      <td>-0.863823</td>\n",
       "      <td>4</td>\n",
       "      <td>unanswerable</td>\n",
       "    </tr>\n",
       "    <tr>\n",
       "      <th>...</th>\n",
       "      <td>...</td>\n",
       "      <td>...</td>\n",
       "      <td>...</td>\n",
       "      <td>...</td>\n",
       "      <td>...</td>\n",
       "      <td>...</td>\n",
       "      <td>...</td>\n",
       "      <td>...</td>\n",
       "    </tr>\n",
       "    <tr>\n",
       "      <th>1050</th>\n",
       "      <td>2</td>\n",
       "      <td>7809</td>\n",
       "      <td>7810</td>\n",
       "      <td>mathematical analysis and design details of wa...</td>\n",
       "      <td>the theory and design of gas discharge microwa...</td>\n",
       "      <td>-5.669144</td>\n",
       "      <td>95</td>\n",
       "      <td></td>\n",
       "    </tr>\n",
       "    <tr>\n",
       "      <th>1042</th>\n",
       "      <td>2</td>\n",
       "      <td>3664</td>\n",
       "      <td>3665</td>\n",
       "      <td>mathematical analysis and design details of wa...</td>\n",
       "      <td>critical current for superconducting films  ma...</td>\n",
       "      <td>-5.688434</td>\n",
       "      <td>96</td>\n",
       "      <td></td>\n",
       "    </tr>\n",
       "    <tr>\n",
       "      <th>1048</th>\n",
       "      <td>2</td>\n",
       "      <td>3378</td>\n",
       "      <td>3379</td>\n",
       "      <td>mathematical analysis and design details of wa...</td>\n",
       "      <td>a binary weighted current decoder  a method fo...</td>\n",
       "      <td>-5.692067</td>\n",
       "      <td>97</td>\n",
       "      <td></td>\n",
       "    </tr>\n",
       "    <tr>\n",
       "      <th>1026</th>\n",
       "      <td>2</td>\n",
       "      <td>1047</td>\n",
       "      <td>1048</td>\n",
       "      <td>mathematical analysis and design details of wa...</td>\n",
       "      <td>h  f  noise radiators in ground flashes of tro...</td>\n",
       "      <td>-5.893175</td>\n",
       "      <td>98</td>\n",
       "      <td></td>\n",
       "    </tr>\n",
       "    <tr>\n",
       "      <th>1088</th>\n",
       "      <td>2</td>\n",
       "      <td>3205</td>\n",
       "      <td>3206</td>\n",
       "      <td>mathematical analysis and design details of wa...</td>\n",
       "      <td>analysis of multivelocity electron beams by th...</td>\n",
       "      <td>-6.563000</td>\n",
       "      <td>99</td>\n",
       "      <td></td>\n",
       "    </tr>\n",
       "  </tbody>\n",
       "</table>\n",
       "<p>200 rows × 8 columns</p>\n",
       "</div>"
      ],
      "text/plain": [
       "     qid  docid docno                                              query  \\\n",
       "2      1   5501  5502  measurement of dielectric constant of liquids ...   \n",
       "0      1   8171  8172  measurement of dielectric constant of liquids ...   \n",
       "17     1   8149  8150  measurement of dielectric constant of liquids ...   \n",
       "27     1   4146  4147  measurement of dielectric constant of liquids ...   \n",
       "3      1   1501  1502  measurement of dielectric constant of liquids ...   \n",
       "...   ..    ...   ...                                                ...   \n",
       "1050   2   7809  7810  mathematical analysis and design details of wa...   \n",
       "1042   2   3664  3665  mathematical analysis and design details of wa...   \n",
       "1048   2   3378  3379  mathematical analysis and design details of wa...   \n",
       "1026   2   1047  1048  mathematical analysis and design details of wa...   \n",
       "1088   2   3205  3206  mathematical analysis and design details of wa...   \n",
       "\n",
       "                                                   text     score  rank  \\\n",
       "2     the dielectric properties of water in solution... -0.194378     0   \n",
       "0     microwave spectroscopy  includes chapters on s... -0.298686     1   \n",
       "17    the dielectric constant of free and bound wate... -0.526480     2   \n",
       "27    a survey of ground conductivity and dielectric... -0.699999     3   \n",
       "3     microwave measurements of dielectric absorptio... -0.863823     4   \n",
       "...                                                 ...       ...   ...   \n",
       "1050  the theory and design of gas discharge microwa... -5.669144    95   \n",
       "1042  critical current for superconducting films  ma... -5.688434    96   \n",
       "1048  a binary weighted current decoder  a method fo... -5.692067    97   \n",
       "1026  h  f  noise radiators in ground flashes of tro... -5.893175    98   \n",
       "1088  analysis of multivelocity electron beams by th... -6.563000    99   \n",
       "\n",
       "                                                 answer  \n",
       "2     measurements have been made of the microwave d...  \n",
       "0     microwave spectroscopy includes chapters on sp...  \n",
       "17    measurement of dielectric constant of free and...  \n",
       "27                                         unanswerable  \n",
       "3                                          unanswerable  \n",
       "...                                                 ...  \n",
       "1050                                                     \n",
       "1042                                                     \n",
       "1048                                                     \n",
       "1026                                                     \n",
       "1088                                                     \n",
       "\n",
       "[200 rows x 8 columns]"
      ]
     },
     "execution_count": 7,
     "metadata": {},
     "output_type": "execute_result"
    }
   ],
   "source": [
    "res"
   ]
  },
  {
   "cell_type": "code",
   "execution_count": null,
   "id": "5948c268",
   "metadata": {},
   "outputs": [],
   "source": []
  }
 ],
 "metadata": {
  "kernelspec": {
   "display_name": "Python 3 (ipykernel)",
   "language": "python",
   "name": "python3"
  },
  "language_info": {
   "codemirror_mode": {
    "name": "ipython",
    "version": 3
   },
   "file_extension": ".py",
   "mimetype": "text/x-python",
   "name": "python",
   "nbconvert_exporter": "python",
   "pygments_lexer": "ipython3",
   "version": "3.8.10"
  }
 },
 "nbformat": 4,
 "nbformat_minor": 5
}
